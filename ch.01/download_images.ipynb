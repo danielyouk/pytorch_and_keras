{
 "cells": [
  {
   "cell_type": "code",
   "execution_count": 45,
   "metadata": {},
   "outputs": [],
   "source": [
    "from fastdownload import download_url\n",
    "from fastai.vision.all import *\n",
    "from PIL import Image"
   ]
  },
  {
   "cell_type": "code",
   "execution_count": 46,
   "metadata": {},
   "outputs": [],
   "source": [
    "from duckduckgo_search import DDGS\n",
    "import requests\n",
    "import os\n",
    "from pathlib import Path"
   ]
  },
  {
   "cell_type": "code",
   "execution_count": 47,
   "metadata": {},
   "outputs": [],
   "source": [
    "def download_image(url, folder_path, image_name):\n",
    "    try:\n",
    "        response = requests.get(url, stream=True)\n",
    "        response.raise_for_status()  # Check if the request was successful\n",
    "        image_path = folder_path / image_name\n",
    "        with open(image_path, 'wb') as file:\n",
    "            for chunk in response.iter_content(1024):\n",
    "                file.write(chunk)\n",
    "        print(f\"Downloaded {image_name}\")\n",
    "        return 1\n",
    "    except Exception as e:\n",
    "        print(f\"Failed to download {image_name}. Error: {e}\")\n",
    "        return 0"
   ]
  },
  {
   "cell_type": "code",
   "execution_count": 48,
   "metadata": {},
   "outputs": [],
   "source": [
    "def download_image_by_keyword(parents_dir, keyword, num_downloads=3):\n",
    "    # Set up the folder to save images\n",
    "    folder_path = Path(f\"{parents_dir}/{keyword}\")\n",
    "    \n",
    "    # would like to replace the space with underscore for folder_path\n",
    "    folder_path = folder_path.with_name(folder_path.name.replace(\" \", \"_\"))\n",
    "    folder_path.mkdir(parents=True, exist_ok=True)\n",
    "\n",
    "    # Fetch the image URLs using DuckDuckGo Search\n",
    "    results = DDGS().images(\n",
    "        keywords=keyword,\n",
    "        region=\"wt-wt\",\n",
    "        safesearch=\"off\",\n",
    "        size=None,\n",
    "        color=None,\n",
    "        type_image=None,\n",
    "        layout=None,\n",
    "        license_image=None,\n",
    "        max_results=num_downloads * 5\n",
    "    )\n",
    "\n",
    "    # Download each image\n",
    "    count = 0\n",
    "    for i, result in enumerate(results):\n",
    "        image_url = result['image']\n",
    "        image_name = f\"{keyword}_{count+1}.jpg\"\n",
    "        image_name = image_name.replace(\" \", \"_\")\n",
    "        add_count = download_image(image_url, folder_path, image_name)\n",
    "        count += add_count\n",
    "        if count == num_downloads:\n",
    "            break"
   ]
  },
  {
   "cell_type": "code",
   "execution_count": 49,
   "metadata": {},
   "outputs": [],
   "source": [
    "%%capture --no-display\n",
    "# list comprehension with the above function for each keyword, butterfly, butterfly with sun light, butterfly with flowers, butterfly with sunset\n",
    "result = [download_image_by_keyword(parents_dir = \"butterfly\", keyword = keyword, num_downloads = 3) \n",
    "          for keyword in [\"picture of butterfly\", \"picture of butterfly with sun light\", \"picture of butterfly with flowers\", \"picture of butterfly with sunset\"]];"
   ]
  },
  {
   "cell_type": "code",
   "execution_count": 50,
   "metadata": {},
   "outputs": [],
   "source": [
    "import os\n",
    "\n",
    "def list_all_files(directory):\n",
    "    \"\"\"Lists all files under a given directory, including subfolders.\n",
    "\n",
    "    Args:\n",
    "        directory: The path to the directory to search.\n",
    "\n",
    "    Returns:\n",
    "        A list of full file paths.\n",
    "    \"\"\"\n",
    "\n",
    "    files = []\n",
    "    for root, dirs, filenames in os.walk(directory):\n",
    "        for filename in filenames:\n",
    "            files.append(os.path.join(root, filename))\n",
    "    return files\n",
    "\n",
    "\n",
    "# Example usage:\n",
    "directory_path = \"./butterfly\"  # Replace with the actual path\n",
    "all_files_butterfly = list_all_files(directory_path)\n"
   ]
  },
  {
   "cell_type": "code",
   "execution_count": 52,
   "metadata": {},
   "outputs": [],
   "source": [
    "import os\n",
    "import random\n",
    "import shutil\n",
    "from pathlib import Path\n",
    "\n",
    "def move_files(source_folder, all_files, split_ratio, train_dir, test_dir):\n",
    "    \"\"\"\n",
    "    Moves files to train and test directories based on the split ratio.\n",
    "\n",
    "    Args:\n",
    "        all_files: A list of full file paths.\n",
    "        split_ratio: The ratio of files to move to the test directory.\n",
    "        train_dir: The path to the train directory.\n",
    "        test_dir: The path to the test directory.\n",
    "    \"\"\"\n",
    "    # Ensure train and test directories exist\n",
    "    Path(train_dir).mkdir(parents=True, exist_ok=True)\n",
    "    Path(test_dir).mkdir(parents=True, exist_ok=True)\n",
    "\n",
    "    # Shuffle the files\n",
    "    random.shuffle(all_files)\n",
    "\n",
    "    # Calculate the split index\n",
    "    split_index = int(len(all_files) * split_ratio)\n",
    "\n",
    "    # Move the files\n",
    "    for i, file in enumerate(all_files):\n",
    "        if i < split_index:\n",
    "            shutil.move(file, os.path.join(train_dir, os.path.basename(file)))\n",
    "        else:\n",
    "            shutil.move(file, os.path.join(test_dir, os.path.basename(file)))\n",
    "\n",
    "    # Empty the source directory\n",
    "    shutil.rmtree(source_folder)\n",
    "\n",
    "# Example usage\n",
    "# all_files_butterfly = [str(f) for f in Path(\"butterfly\").glob('*') if f.is_file()]\n",
    "move_files(source_folder=\"butterfly\", all_files=all_files_butterfly, split_ratio=0.8, train_dir=\"data/train/butterfly\", test_dir=\"data/test/butterfly\")\n"
   ]
  },
  {
   "cell_type": "code",
   "execution_count": 56,
   "metadata": {},
   "outputs": [],
   "source": [
    "%%capture --no-display\n",
    "# list comprehension with the above function for each keyword, butterfly, butterfly with sun light, butterfly with flowers, butterfly with sunset\n",
    "result = [download_image_by_keyword(parents_dir = \"forest\", keyword = keyword, num_downloads = 3) \n",
    "          for keyword in [\"picture of forest\", \"picture of forest with sun light\", \"picture of forest with flowers\", \"picture of forest with sunset\"]];\n",
    "\n",
    "directory_path = \"./forest\"  # Replace with the actual path\n",
    "all_files_forest = list_all_files(directory_path)\n",
    "\n",
    "move_files(source_folder=\"forest\", all_files=all_files_forest, split_ratio=0.8, train_dir=\"data/train/forest\", test_dir=\"data/test/forest\")"
   ]
  }
 ],
 "metadata": {
  "kernelspec": {
   "display_name": "base",
   "language": "python",
   "name": "python3"
  },
  "language_info": {
   "codemirror_mode": {
    "name": "ipython",
    "version": 3
   },
   "file_extension": ".py",
   "mimetype": "text/x-python",
   "name": "python",
   "nbconvert_exporter": "python",
   "pygments_lexer": "ipython3",
   "version": "3.10.13"
  }
 },
 "nbformat": 4,
 "nbformat_minor": 2
}
